{
  "cells": [
    {
      "cell_type": "markdown",
      "metadata": {
        "colab_type": "text",
        "id": "view-in-github"
      },
      "source": [
        "<a href=\"https://colab.research.google.com/github/jorgenery/ufba-mestrado/blob/main/ic0004_trabalho_02.ipynb\" target=\"_parent\"><img src=\"https://colab.research.google.com/assets/colab-badge.svg\" alt=\"Open In Colab\"/></a>"
      ]
    },
    {
      "cell_type": "markdown",
      "metadata": {
        "id": "DmwqQfHOy2Fc"
      },
      "source": []
    },
    {
      "cell_type": "markdown",
      "metadata": {
        "id": "xJHinoEay2gE"
      },
      "source": []
    },
    {
      "cell_type": "code",
      "execution_count": 15,
      "metadata": {
        "id": "2ZRBYspMx-5s"
      },
      "outputs": [],
      "source": [
        "import itertools\n",
        "import numpy as np\n",
        "import time"
      ]
    },
    {
      "cell_type": "markdown",
      "metadata": {
        "id": "xKaptHtp488M"
      },
      "source": [
        "## Implementação Algoritmos"
      ]
    },
    {
      "cell_type": "markdown",
      "metadata": {
        "id": "cISYMrK-_iO0"
      },
      "source": [
        "### Algoritmo de Força Bruta"
      ]
    },
    {
      "cell_type": "code",
      "execution_count": 17,
      "metadata": {
        "id": "zNvkG_y-8rIE"
      },
      "outputs": [],
      "source": [
        "# Algoritmo de Força Bruta\n",
        "def gerar_permutacoes(arr):\n",
        "    \"\"\"Gera todas as permutações de um array.\"\"\"\n",
        "    if len(arr) == 0:\n",
        "        return [[]]\n",
        "\n",
        "    permutacoes = []\n",
        "    for i in range(len(arr)):\n",
        "        restante = arr[:i] + arr[i+1:]\n",
        "        for p in gerar_permutacoes(restante):\n",
        "            permutacoes.append([arr[i]] + p)\n",
        "\n",
        "    return permutacoes\n",
        "\n",
        "def forca_bruta(matriz_distancias, distancia_maxima):\n",
        "    n = len(matriz_distancias)\n",
        "    rota_minima = None\n",
        "    distancia_minima = float('inf')\n",
        "\n",
        "    # Gera todas as permutações possíveis das cidades (exceto a inicial)\n",
        "    cidades = list(range(1, n))\n",
        "    permutacoes = gerar_permutacoes(cidades)\n",
        "\n",
        "    for perm in permutacoes:\n",
        "        rota = (0,) + tuple(perm) + (0,)\n",
        "        distancia = sum(matriz_distancias[rota[i]][rota[i+1]] for i in range(len(rota) - 1))\n",
        "\n",
        "        if distancia < distancia_minima:\n",
        "            distancia_minima = distancia\n",
        "            rota_minima = rota\n",
        "        if distancia > distancia_maxima:\n",
        "            continue\n",
        "\n",
        "    if distancia_minima > distancia_maxima:\n",
        "        return None, None\n",
        "\n",
        "    return rota_minima, distancia_minima"
      ]
    },
    {
      "cell_type": "markdown",
      "metadata": {
        "id": "Z0DafMS4_sPs"
      },
      "source": [
        "### Algoritmo do Vizinho Mais Próximo"
      ]
    },
    {
      "cell_type": "code",
      "execution_count": 9,
      "metadata": {
        "id": "R1mjCpIb8m62"
      },
      "outputs": [],
      "source": [
        "# Algoritmo do Vizinho Mais Próximo\n",
        "def vizinho_mais_proximo(matriz_distancias, cidade_inicial=0, distancia_maxima=float('inf')):\n",
        "    n = len(matriz_distancias)\n",
        "    visitadas = [False] * n\n",
        "    rota = [cidade_inicial]\n",
        "    distancia_total = 0\n",
        "\n",
        "    cidade_atual = cidade_inicial\n",
        "    visitadas[cidade_atual] = True\n",
        "\n",
        "    for _ in range(n - 1):\n",
        "        # Encontra a próxima cidade com a menor distância, não visitada\n",
        "        proxima_cidade = np.argmin([matriz_distancias[cidade_atual][j] if not visitadas[j] else float('inf') for j in range(n)])\n",
        "        distancia_para_proxima = matriz_distancias[cidade_atual][proxima_cidade]\n",
        "\n",
        "        # Verifica se adicionar a próxima cidade excede a distância máxima\n",
        "        if distancia_total + distancia_para_proxima > distancia_maxima:\n",
        "            return None, None\n",
        "\n",
        "        distancia_total += distancia_para_proxima\n",
        "        rota.append(proxima_cidade)\n",
        "        visitadas[proxima_cidade] = True\n",
        "        cidade_atual = proxima_cidade\n",
        "\n",
        "    # Adiciona a distância de volta para a cidade inicial\n",
        "    distancia_final = matriz_distancias[cidade_atual][cidade_inicial]\n",
        "\n",
        "    if distancia_total + distancia_final > distancia_maxima:\n",
        "        return None, None\n",
        "\n",
        "    distancia_total += distancia_final\n",
        "    rota.append(cidade_inicial)\n",
        "\n",
        "    return rota, distancia_total"
      ]
    },
    {
      "cell_type": "markdown",
      "metadata": {
        "id": "leLK3XT4_0oW"
      },
      "source": [
        "### Algoritmo Held Karp"
      ]
    },
    {
      "cell_type": "code",
      "execution_count": 10,
      "metadata": {
        "id": "MbR2OdpLSJAN"
      },
      "outputs": [],
      "source": [
        "def held_karp(distances, max_distance):\n",
        "    n = len(distances)\n",
        "    C = {}\n",
        "\n",
        "    for k in range(1, n):\n",
        "        C[(1 << k, k)] = (distances[0][k], 0)\n",
        "\n",
        "    for subset_size in range(2, n):\n",
        "        for subset in itertools.combinations(range(1, n), subset_size):\n",
        "            bits = 0\n",
        "            for bit in subset:\n",
        "                bits |= 1 << bit\n",
        "            for k in subset:\n",
        "                prev_bits = bits & ~(1 << k)\n",
        "                res = []\n",
        "                for m in subset:\n",
        "                    if m == 0 or m == k:\n",
        "                        continue\n",
        "                    res.append((C[(prev_bits, m)][0] + distances[m][k], m))\n",
        "                C[(bits, k)] = min(res)\n",
        "\n",
        "    bits = (2**n - 1) - 1\n",
        "    res = []\n",
        "    routes = []\n",
        "    for k in range(1, n):\n",
        "        res.append((C[(bits, k)][0] + distances[k][0], k))\n",
        "        routes.append(C[(bits, k)][1])\n",
        "    opt, parent = min(res)\n",
        "\n",
        "    return routes,opt"
      ]
    },
    {
      "cell_type": "markdown",
      "metadata": {
        "id": "47psEuqC__ff"
      },
      "source": [
        "### Colonia de Formigas"
      ]
    },
    {
      "cell_type": "code",
      "execution_count": 11,
      "metadata": {
        "id": "C2QjjbYV-jQh"
      },
      "outputs": [],
      "source": [
        "# Colônia de Formigas\n",
        "def colonia_formigas(dist_matrix, max_distance):\n",
        "  # todo implementar\n",
        "  return [],0"
      ]
    },
    {
      "cell_type": "markdown",
      "metadata": {
        "id": "CybIkvQhAHLi"
      },
      "source": [
        "### Valida certificado"
      ]
    },
    {
      "cell_type": "code",
      "execution_count": 12,
      "metadata": {
        "id": "YqAxFvep-C_g"
      },
      "outputs": [],
      "source": [
        "# Valida certificado\n",
        "def calculate_distance(route, distances):\n",
        "    return sum(distances[route[i]][route[i+1]] for i in range(len(route)-1)) + distances[route[-1]][route[0]]"
      ]
    },
    {
      "cell_type": "markdown",
      "metadata": {
        "id": "zxZfPmulALW7"
      },
      "source": [
        "### Comparação de Eficiência"
      ]
    },
    {
      "cell_type": "code",
      "execution_count": 129,
      "metadata": {
        "id": "yJFHeRXN8x39"
      },
      "outputs": [],
      "source": [
        "def executar_forca_bruta(dist_matrix, max_distance):\n",
        "    # Algoritmo de Força Bruta\n",
        "    start_time = time.time()\n",
        "    rota, distancia = forca_bruta(dist_matrix, max_distance)\n",
        "    tempo = time.time() - start_time\n",
        "    quantidade_cidades = len(dist_matrix)\n",
        "    return [\"Força bruta\", distancia, tempo, rota, quantidade_cidades ]\n",
        "\n",
        "def executar_vizinho_mais_proximo(dist_matrix, max_distance):\n",
        "    # Algoritmo do Vizinho Mais Próximo\n",
        "    start_time = time.time()\n",
        "    rota, distancia = vizinho_mais_proximo(dist_matrix,cidade_inicial=0,distancia_maxima=max_distance)\n",
        "    tempo = time.time() - start_time\n",
        "    quantidade_cidades = len(dist_matrix)\n",
        "    return [\"Vizinho Mais Próximo\", distancia, tempo, rota, quantidade_cidades ]\n",
        "\n",
        "def executar_held_karp(dist_matrix, max_distance):\n",
        "    # Algoritmo held_karp\n",
        "    start_time = time.time()\n",
        "    rota, distancia = held_karp(dist_matrix, max_distance)\n",
        "    tempo = time.time() - start_time\n",
        "    quantidade_cidades = len(dist_matrix)\n",
        "    return [\"Held-Karp\", distancia, tempo, rota, quantidade_cidades ]\n",
        "\n",
        "def executar_colonia_formigas(dist_matrix, max_distance):\n",
        "    # Algoritmo Colônia de Formigas\n",
        "    start_time = time.time()\n",
        "    rota, distancia = colonia_formigas(dist_matrix, max_distance)\n",
        "    tempo = time.time() - start_time\n",
        "    quantidade_cidades = len(dist_matrix)\n",
        "    return [\"Colônia de Formigas\", distancia, tempo, rota, quantidade_cidades ]\n",
        "\n",
        "def resultados(matriz_comparacao):\n",
        "   # Resultados\n",
        "    for d in matriz_comparacao:\n",
        "      if d[1] == None or d[1]==0:\n",
        "        print(f\"{d[0]}: Nenhuma resposta valida\")\n",
        "      else:\n",
        "        print(f\"Algoritmo - {d[0]}\\t: \\tDistância = {d[1]} km \\tTempo = {d[2]:.32f} s, \\tRota = {d[3]}\")"
      ]
    },
    {
      "cell_type": "markdown",
      "metadata": {
        "id": "wmMznkOrAUeA"
      },
      "source": [
        "## Experimentos"
      ]
    },
    {
      "cell_type": "code",
      "execution_count": 142,
      "metadata": {},
      "outputs": [],
      "source": [
        "# Matriz de Distancias Cidades\n",
        "# Fonte: https://www.melhoresrotas.com/tabela-de-distancias-entre-cidades/br-bahia/\n",
        "distancias = [\n",
        "    # Salvador, Feira de Santana, Itabuna, Juazeiro, Camaçari, Barreiras, Ilhéus, Lauro de Freitas, Teixeira de Freitas, Jequié, Porto Seguro, Alagoinhas, Simões Filho, Eunápolis, Paulo Afonso\n",
        "    [0, 112, 433, 505, 46, 861, 449, 24, 806, 367, 707, 112, 25, 645, 457],  # Salvador\n",
        "    [115, 0, 348, 394, 98, 748, 364, 110, 721, 254, 623, 75, 89, 560, 377],  # Feira de Santana\n",
        "    [436, 348, 0, 741, 419, 942, 30, 431, 376, 187, 277, 396, 409, 215, 724],  # Itabuna\n",
        "    [508, 393, 743, 0, 491, 935, 759, 503, 1_116, 645, 1_017, 445, 482, 955, 364],  # Juazeiro\n",
        "    [50, 98, 419, 491, 0, 847, 435, 30, 792, 353, 693, 80, 24, 631, 425],  # Camaçari\n",
        "    [863, 748, 942, 936, 846, 0, 957, 858, 1_185, 793, 1_086, 823, 837, 1_024, 1_124],  # Barreiras\n",
        "    [452, 364, 30, 757, 435, 955, 0, 447, 405, 203, 307, 412, 426, 244, 740],  # Ilhéus\n",
        "    [26, 108, 429, 501, 31, 857, 444, 0, 802, 363, 703, 108, 21, 641, 453],  # Lauro de Freitas\n",
        "    [809, 721, 376, 1_114, 792, 1_185, 405, 804, 0, 560, 225, 769, 783, 163, 1_098],  # Teixeira de Freitas\n",
        "    [369, 254, 187, 647, 352, 792, 203, 364, 560, 0, 461, 329, 343, 399, 630],  # Jequié\n",
        "    [711, 623, 277, 1_016, 694, 1_087, 307, 706, 225, 462, 0, 671, 684, 63, 999],  # Porto Seguro\n",
        "    [116, 76, 396, 446, 77, 824, 412, 105, 769, 330, 670, 0, 88, 608, 346],  # Alagoinhas\n",
        "    [28, 89, 410, 482, 21, 838, 425, 22, 783, 344, 684, 88, 0, 622, 433],  # Simões Filho\n",
        "    [648, 560, 214, 953, 631, 1_024, 244, 643, 163, 399, 62, 608, 622, 0, 936],  # Eunápolis\n",
        "    [462, 378, 728, 367, 423, 1_124, 744, 451, 1_101, 630, 1_002, 347, 434, 940, 0]  # Paulo Afonso\n",
        "    ]\n",
        "\n",
        "cidades = [\n",
        "    \"Salvador\", \"Feira de Santana\", \"Itabuna\", \"Juazeiro\", \"Camaçari\", \"Barreiras\", \"Ilhéus\", \"Lauro de Freitas\", \"Teixeira de Freitas\",\n",
        "    \"Jequié\", \"Porto Seguro\", \"Alagoinhas\", \"Simões Filho\", \"Eunápolis\", \"Paulo Afonso\"\n",
        "    ]\n",
        "\n",
        "def get_submatrix(cidades_selecionadas, cidades, distancias):\n",
        "    \"\"\"\n",
        "    Monta a matriz de distância das cidades selecionadas\n",
        "    \"\"\"\n",
        "    # Verificar se todas as cidades estão na lista\n",
        "    for cidade in cidades_selecionadas:\n",
        "        if cidade not in cidades:\n",
        "            raise ValueError(f\"A cidade '{cidade}' não está na lista de cidades.\")\n",
        "\n",
        "    # Obter os índices das cidades selecionadas\n",
        "    indices = [cidades.index(cidade) for cidade in cidades_selecionadas]\n",
        "\n",
        "    # Criar a submatriz\n",
        "    submatriz = []\n",
        "    for i in indices:\n",
        "        linha = [distancias[i][j] for j in indices]\n",
        "        submatriz.append(linha)\n",
        "\n",
        "    return submatriz\n",
        "\n",
        "lista_roteiros = [\n",
        "    [\"Salvador\", \"Feira de Santana\", \"Itabuna\"],\n",
        "    [\"Salvador\", \"Feira de Santana\", \"Itabuna\", \"Juazeiro\"],\n",
        "    [\"Salvador\", \"Feira de Santana\", \"Itabuna\", \"Juazeiro\", \"Camaçari\"],\n",
        "    [\"Salvador\", \"Feira de Santana\", \"Itabuna\", \"Juazeiro\", \"Camaçari\", \"Barreiras\", \"Ilhéus\"],\n",
        "    [\"Salvador\", \"Feira de Santana\", \"Itabuna\", \"Juazeiro\", \"Camaçari\", \"Barreiras\", \"Ilhéus\", \"Lauro de Freitas\"],\n",
        "    [\"Salvador\", \"Feira de Santana\", \"Itabuna\", \"Juazeiro\", \"Camaçari\", \"Barreiras\", \"Ilhéus\", \"Lauro de Freitas\", \"Teixeira de Freitas\"],\n",
        "    [\"Salvador\", \"Feira de Santana\", \"Itabuna\", \"Juazeiro\", \"Camaçari\", \"Barreiras\", \"Ilhéus\", \"Lauro de Freitas\", \"Teixeira de Freitas\", \"Simões Filho\"],\n",
        "    # [\"Salvador\", \"Feira de Santana\", \"Itabuna\", \"Juazeiro\", \"Camaçari\", \"Barreiras\", \"Ilhéus\", \"Lauro de Freitas\", \"Teixeira de Freitas\", \"Simões Filho\", \"Alagoinhas\"],\n",
        "    # [\"Salvador\", \"Feira de Santana\", \"Itabuna\", \"Juazeiro\", \"Camaçari\", \"Barreiras\", \"Ilhéus\", \"Lauro de Freitas\", \"Teixeira de Freitas\", \"Simões Filho\", \"Alagoinhas\", \"Porto Seguro\"],\n",
        "    # [\"Salvador\", \"Feira de Santana\", \"Itabuna\", \"Juazeiro\", \"Camaçari\", \"Barreiras\", \"Ilhéus\", \"Lauro de Freitas\", \"Teixeira de Freitas\", \"Simões Filho\", \"Alagoinhas\", \"Porto Seguro\", \"Eunápolis\"],\n",
        "    # [\"Salvador\", \"Feira de Santana\", \"Itabuna\", \"Juazeiro\", \"Camaçari\", \"Barreiras\", \"Ilhéus\", \"Lauro de Freitas\", \"Teixeira de Freitas\", \"Simões Filho\", \"Alagoinhas\", \"Porto Seguro\", \"Eunápolis\", \"Jequié\"],\n",
        "    # [\"Salvador\", \"Feira de Santana\", \"Itabuna\", \"Juazeiro\", \"Camaçari\", \"Barreiras\", \"Ilhéus\", \"Lauro de Freitas\", \"Teixeira de Freitas\", \"Simões Filho\", \"Alagoinhas\", \"Porto Seguro\", \"Eunápolis\", \"Jequié\", \"Paulo Afonso\"]\n",
        "]\n",
        "\n",
        "lista_roteiros_2 = [\n",
        "    [\"Salvador\", \"Feira de Santana\", \"Itabuna\"],\n",
        "    [\"Salvador\", \"Feira de Santana\", \"Itabuna\", \"Juazeiro\"],\n",
        "    [\"Salvador\", \"Feira de Santana\", \"Itabuna\", \"Juazeiro\", \"Camaçari\"],\n",
        "    [\"Salvador\", \"Feira de Santana\", \"Itabuna\", \"Juazeiro\", \"Camaçari\", \"Barreiras\", \"Ilhéus\"],\n",
        "    [\"Salvador\", \"Feira de Santana\", \"Itabuna\", \"Juazeiro\", \"Camaçari\", \"Barreiras\", \"Ilhéus\", \"Lauro de Freitas\"],\n",
        "    [\"Salvador\", \"Feira de Santana\", \"Itabuna\", \"Juazeiro\", \"Camaçari\", \"Barreiras\", \"Ilhéus\", \"Lauro de Freitas\", \"Teixeira de Freitas\"],\n",
        "    [\"Salvador\", \"Feira de Santana\", \"Itabuna\", \"Juazeiro\", \"Camaçari\", \"Barreiras\", \"Ilhéus\", \"Lauro de Freitas\", \"Teixeira de Freitas\", \"Simões Filho\"],\n",
        "    [\"Salvador\", \"Feira de Santana\", \"Itabuna\", \"Juazeiro\", \"Camaçari\", \"Barreiras\", \"Ilhéus\", \"Lauro de Freitas\", \"Teixeira de Freitas\", \"Simões Filho\", \"Alagoinhas\"],\n",
        "    [\"Salvador\", \"Feira de Santana\", \"Itabuna\", \"Juazeiro\", \"Camaçari\", \"Barreiras\", \"Ilhéus\", \"Lauro de Freitas\", \"Teixeira de Freitas\", \"Simões Filho\", \"Alagoinhas\", \"Porto Seguro\"],\n",
        "    [\"Salvador\", \"Feira de Santana\", \"Itabuna\", \"Juazeiro\", \"Camaçari\", \"Barreiras\", \"Ilhéus\", \"Lauro de Freitas\", \"Teixeira de Freitas\", \"Simões Filho\", \"Alagoinhas\", \"Porto Seguro\", \"Eunápolis\"],\n",
        "    [\"Salvador\", \"Feira de Santana\", \"Itabuna\", \"Juazeiro\", \"Camaçari\", \"Barreiras\", \"Ilhéus\", \"Lauro de Freitas\", \"Teixeira de Freitas\", \"Simões Filho\", \"Alagoinhas\", \"Porto Seguro\", \"Eunápolis\", \"Jequié\"],\n",
        "    [\"Salvador\", \"Feira de Santana\", \"Itabuna\", \"Juazeiro\", \"Camaçari\", \"Barreiras\", \"Ilhéus\", \"Lauro de Freitas\", \"Teixeira de Freitas\", \"Simões Filho\", \"Alagoinhas\", \"Porto Seguro\", \"Eunápolis\", \"Jequié\", \"Paulo Afonso\"]\n",
        "]\n",
        "\n",
        "max_distance = 1800\n",
        "matriz_resultados = []"
      ]
    },
    {
      "cell_type": "code",
      "execution_count": 138,
      "metadata": {},
      "outputs": [
        {
          "data": {
            "text/plain": [
              "3"
            ]
          },
          "execution_count": 138,
          "metadata": {},
          "output_type": "execute_result"
        }
      ],
      "source": [
        "matriz_roteiro = get_submatrix([\"Salvador\", \"Feira de Santana\", \"Itabuna\"], cidades, distancias)\n",
        "len(matriz_roteiro)"
      ]
    },
    {
      "cell_type": "code",
      "execution_count": 131,
      "metadata": {},
      "outputs": [],
      "source": [
        "def test_execution(lista_roteiros, algoritmo):\n",
        "    matriz_comparacao = []\n",
        "    for roteiro in lista_roteiros:\n",
        "        matriz_roteiro = get_submatrix(roteiro, cidades, distancias)\n",
        "        dado = algoritmo(matriz_roteiro, 80000)\n",
        "        matriz_comparacao.append(dado)\n",
        "        matriz_resultados.append(dado)\n",
        "    resultados(matriz_comparacao)"
      ]
    },
    {
      "cell_type": "code",
      "execution_count": 143,
      "metadata": {},
      "outputs": [
        {
          "name": "stdout",
          "output_type": "stream",
          "text": [
            "Algoritmo - Força bruta\t: \tDistância = 896 km \tTempo = 0.00000000000000000000000000000000 s, \tRota = (0, 1, 2, 0)\n",
            "Algoritmo - Força bruta\t: \tDistância = 1682 km \tTempo = 0.00000000000000000000000000000000 s, \tRota = (0, 2, 3, 1, 0)\n",
            "Algoritmo - Força bruta\t: \tDistância = 1714 km \tTempo = 0.00000000000000000000000000000000 s, \tRota = (0, 4, 2, 3, 1, 0)\n",
            "Algoritmo - Força bruta\t: \tDistância = 2894 km \tTempo = 0.00199866294860839843750000000000 s, \tRota = (0, 4, 2, 6, 5, 3, 1, 0)\n",
            "Algoritmo - Força bruta\t: \tDistância = 2901 km \tTempo = 0.01200032234191894531250000000000 s, \tRota = (0, 2, 6, 5, 3, 1, 4, 7, 0)\n",
            "Algoritmo - Força bruta\t: \tDistância = 3523 km \tTempo = 0.09840750694274902343750000000000 s, \tRota = (0, 1, 3, 5, 8, 2, 6, 4, 7, 0)\n",
            "Algoritmo - Força bruta\t: \tDistância = 3524 km \tTempo = 0.93754315376281738281250000000000 s, \tRota = (0, 9, 6, 2, 8, 5, 3, 1, 4, 7, 0)\n",
            "Algoritmo - Held-Karp\t: \tDistância = 896 km \tTempo = 0.00000000000000000000000000000000 s, \tRota = [2, 1]\n",
            "Algoritmo - Held-Karp\t: \tDistância = 1682 km \tTempo = 0.00000000000000000000000000000000 s, \tRota = [3, 1, 1]\n",
            "Algoritmo - Held-Karp\t: \tDistância = 1714 km \tTempo = 0.00000000000000000000000000000000 s, \tRota = [3, 1, 1, 1]\n",
            "Algoritmo - Held-Karp\t: \tDistância = 2894 km \tTempo = 0.00000000000000000000000000000000 s, \tRota = [3, 6, 5, 1, 3, 2]\n",
            "Algoritmo - Held-Karp\t: \tDistância = 2901 km \tTempo = 0.00000000000000000000000000000000 s, \tRota = [3, 6, 5, 1, 3, 2, 4]\n",
            "Algoritmo - Held-Karp\t: \tDistância = 3523 km \tTempo = 0.00100231170654296875000000000000 s, \tRota = [3, 6, 5, 1, 8, 2, 4, 2]\n",
            "Algoritmo - Held-Karp\t: \tDistância = 3524 km \tTempo = 0.00199389457702636718750000000000 s, \tRota = [3, 6, 5, 1, 8, 2, 4, 2, 1]\n",
            "Algoritmo - Held-Karp\t: \tDistância = 3578 km \tTempo = 0.00890064239501953125000000000000 s, \tRota = [3, 6, 5, 10, 8, 2, 4, 2, 1, 1]\n",
            "Algoritmo - Held-Karp\t: \tDistância = 3704 km \tTempo = 0.01500105857849121093750000000000 s, \tRota = [3, 6, 5, 10, 8, 2, 4, 11, 1, 1, 8]\n",
            "Algoritmo - Held-Karp\t: \tDistância = 3704 km \tTempo = 0.03403782844543457031250000000000 s, \tRota = [3, 6, 5, 10, 8, 2, 4, 11, 1, 1, 12, 11]\n",
            "Algoritmo - Held-Karp\t: \tDistância = 3802 km \tTempo = 0.07001852989196777343750000000000 s, \tRota = [13, 8, 5, 10, 8, 2, 4, 11, 1, 3, 12, 11, 6]\n",
            "Algoritmo - Held-Karp\t: \tDistância = 4068 km \tTempo = 0.16899824142456054687500000000000 s, \tRota = [13, 8, 14, 10, 8, 2, 4, 11, 1, 14, 12, 11, 6, 3]\n"
          ]
        }
      ],
      "source": [
        "test_execution(lista_roteiros, executar_forca_bruta)\n",
        "test_execution(lista_roteiros_2, executar_held_karp)"
      ]
    },
    {
      "cell_type": "code",
      "execution_count": 133,
      "metadata": {},
      "outputs": [
        {
          "data": {
            "text/plain": [
              "[['Força bruta', 896, 0.0, (0, 1, 2, 0), 3],\n",
              " ['Força bruta', 1682, 0.0, (0, 2, 3, 1, 0), 4],\n",
              " ['Força bruta', 1714, 0.0, (0, 4, 2, 3, 1, 0), 5],\n",
              " ['Força bruta', 2894, 0.0019981861114501953, (0, 4, 2, 6, 5, 3, 1, 0), 7],\n",
              " ['Força bruta', 2901, 0.011000394821166992, (0, 2, 6, 5, 3, 1, 4, 7, 0), 8],\n",
              " ['Força bruta', 3523, 0.09181356430053711, (0, 1, 3, 5, 8, 2, 6, 4, 7, 0), 9],\n",
              " ['Força bruta',\n",
              "  3524,\n",
              "  0.8997001647949219,\n",
              "  (0, 9, 6, 2, 8, 5, 3, 1, 4, 7, 0),\n",
              "  10],\n",
              " ['Força bruta',\n",
              "  3578,\n",
              "  15.509956121444702,\n",
              "  (0, 9, 6, 2, 8, 5, 3, 1, 10, 4, 7, 0),\n",
              "  11],\n",
              " ['Força bruta',\n",
              "  3704,\n",
              "  206.50187230110168,\n",
              "  (0, 9, 6, 2, 11, 8, 5, 3, 1, 10, 4, 7, 0),\n",
              "  12],\n",
              " ['Held-Karp', 896, 0.0, [2, 1], 3],\n",
              " ['Held-Karp', 1682, 0.0, [3, 1, 1], 4],\n",
              " ['Held-Karp', 1714, 0.0, [3, 1, 1, 1], 5],\n",
              " ['Held-Karp', 2894, 0.0010004043579101562, [3, 6, 5, 1, 3, 2], 7],\n",
              " ['Held-Karp', 2901, 0.0, [3, 6, 5, 1, 3, 2, 4], 8],\n",
              " ['Held-Karp', 3523, 0.0010216236114501953, [3, 6, 5, 1, 8, 2, 4, 2], 9],\n",
              " ['Held-Karp', 3524, 0.0019779205322265625, [3, 6, 5, 1, 8, 2, 4, 2, 1], 10],\n",
              " ['Held-Karp',\n",
              "  3578,\n",
              "  0.005000114440917969,\n",
              "  [3, 6, 5, 10, 8, 2, 4, 2, 1, 1],\n",
              "  11],\n",
              " ['Held-Karp',\n",
              "  3704,\n",
              "  0.015020132064819336,\n",
              "  [3, 6, 5, 10, 8, 2, 4, 11, 1, 1, 8],\n",
              "  12]]"
            ]
          },
          "execution_count": 133,
          "metadata": {},
          "output_type": "execute_result"
        }
      ],
      "source": [
        "matriz_resultados"
      ]
    },
    {
      "cell_type": "code",
      "execution_count": 144,
      "metadata": {},
      "outputs": [
        {
          "data": {
            "image/png": "[encoded data removed]",
            "text/plain": [
              "<Figure size 1000x600 with 1 Axes>"
            ]
          },
          "metadata": {},
          "output_type": "display_data"
        }
      ],
      "source": [
        "import pandas as pd\n",
        "import matplotlib.pyplot as plt\n",
        "plt.figure(figsize=(10, 6))\n",
        "df = pd.DataFrame(matriz_resultados)\n",
        "for algoritmo in df[0].unique():\n",
        "    subset = df[df[0] == algoritmo]\n",
        "    plt.plot(subset[4], subset[2], marker='o', label=algoritmo)"
      ]
    },
    {
      "cell_type": "code",
      "execution_count": 135,
      "metadata": {},
      "outputs": [
        {
          "data": {
            "text/html": [
              "<div>\n",
              "<style scoped>\n",
              "    .dataframe tbody tr th:only-of-type {\n",
              "        vertical-align: middle;\n",
              "    }\n",
              "\n",
              "    .dataframe tbody tr th {\n",
              "        vertical-align: top;\n",
              "    }\n",
              "\n",
              "    .dataframe thead th {\n",
              "        text-align: right;\n",
              "    }\n",
              "</style>\n",
              "<table border=\"1\" class=\"dataframe\">\n",
              "  <thead>\n",
              "    <tr style=\"text-align: right;\">\n",
              "      <th></th>\n",
              "      <th>0</th>\n",
              "      <th>1</th>\n",
              "      <th>2</th>\n",
              "      <th>3</th>\n",
              "      <th>4</th>\n",
              "    </tr>\n",
              "  </thead>\n",
              "  <tbody>\n",
              "    <tr>\n",
              "      <th>0</th>\n",
              "      <td>Força bruta</td>\n",
              "      <td>896</td>\n",
              "      <td>0.000000</td>\n",
              "      <td>(0, 1, 2, 0)</td>\n",
              "      <td>3</td>\n",
              "    </tr>\n",
              "    <tr>\n",
              "      <th>1</th>\n",
              "      <td>Força bruta</td>\n",
              "      <td>1682</td>\n",
              "      <td>0.000000</td>\n",
              "      <td>(0, 2, 3, 1, 0)</td>\n",
              "      <td>4</td>\n",
              "    </tr>\n",
              "    <tr>\n",
              "      <th>2</th>\n",
              "      <td>Força bruta</td>\n",
              "      <td>1714</td>\n",
              "      <td>0.000000</td>\n",
              "      <td>(0, 4, 2, 3, 1, 0)</td>\n",
              "      <td>5</td>\n",
              "    </tr>\n",
              "    <tr>\n",
              "      <th>3</th>\n",
              "      <td>Força bruta</td>\n",
              "      <td>2894</td>\n",
              "      <td>0.001998</td>\n",
              "      <td>(0, 4, 2, 6, 5, 3, 1, 0)</td>\n",
              "      <td>7</td>\n",
              "    </tr>\n",
              "    <tr>\n",
              "      <th>4</th>\n",
              "      <td>Força bruta</td>\n",
              "      <td>2901</td>\n",
              "      <td>0.011000</td>\n",
              "      <td>(0, 2, 6, 5, 3, 1, 4, 7, 0)</td>\n",
              "      <td>8</td>\n",
              "    </tr>\n",
              "    <tr>\n",
              "      <th>5</th>\n",
              "      <td>Força bruta</td>\n",
              "      <td>3523</td>\n",
              "      <td>0.091814</td>\n",
              "      <td>(0, 1, 3, 5, 8, 2, 6, 4, 7, 0)</td>\n",
              "      <td>9</td>\n",
              "    </tr>\n",
              "    <tr>\n",
              "      <th>6</th>\n",
              "      <td>Força bruta</td>\n",
              "      <td>3524</td>\n",
              "      <td>0.899700</td>\n",
              "      <td>(0, 9, 6, 2, 8, 5, 3, 1, 4, 7, 0)</td>\n",
              "      <td>10</td>\n",
              "    </tr>\n",
              "    <tr>\n",
              "      <th>7</th>\n",
              "      <td>Força bruta</td>\n",
              "      <td>3578</td>\n",
              "      <td>15.509956</td>\n",
              "      <td>(0, 9, 6, 2, 8, 5, 3, 1, 10, 4, 7, 0)</td>\n",
              "      <td>11</td>\n",
              "    </tr>\n",
              "    <tr>\n",
              "      <th>8</th>\n",
              "      <td>Força bruta</td>\n",
              "      <td>3704</td>\n",
              "      <td>206.501872</td>\n",
              "      <td>(0, 9, 6, 2, 11, 8, 5, 3, 1, 10, 4, 7, 0)</td>\n",
              "      <td>12</td>\n",
              "    </tr>\n",
              "    <tr>\n",
              "      <th>9</th>\n",
              "      <td>Held-Karp</td>\n",
              "      <td>896</td>\n",
              "      <td>0.000000</td>\n",
              "      <td>[2, 1]</td>\n",
              "      <td>3</td>\n",
              "    </tr>\n",
              "    <tr>\n",
              "      <th>10</th>\n",
              "      <td>Held-Karp</td>\n",
              "      <td>1682</td>\n",
              "      <td>0.000000</td>\n",
              "      <td>[3, 1, 1]</td>\n",
              "      <td>4</td>\n",
              "    </tr>\n",
              "    <tr>\n",
              "      <th>11</th>\n",
              "      <td>Held-Karp</td>\n",
              "      <td>1714</td>\n",
              "      <td>0.000000</td>\n",
              "      <td>[3, 1, 1, 1]</td>\n",
              "      <td>5</td>\n",
              "    </tr>\n",
              "    <tr>\n",
              "      <th>12</th>\n",
              "      <td>Held-Karp</td>\n",
              "      <td>2894</td>\n",
              "      <td>0.001000</td>\n",
              "      <td>[3, 6, 5, 1, 3, 2]</td>\n",
              "      <td>7</td>\n",
              "    </tr>\n",
              "    <tr>\n",
              "      <th>13</th>\n",
              "      <td>Held-Karp</td>\n",
              "      <td>2901</td>\n",
              "      <td>0.000000</td>\n",
              "      <td>[3, 6, 5, 1, 3, 2, 4]</td>\n",
              "      <td>8</td>\n",
              "    </tr>\n",
              "    <tr>\n",
              "      <th>14</th>\n",
              "      <td>Held-Karp</td>\n",
              "      <td>3523</td>\n",
              "      <td>0.001022</td>\n",
              "      <td>[3, 6, 5, 1, 8, 2, 4, 2]</td>\n",
              "      <td>9</td>\n",
              "    </tr>\n",
              "    <tr>\n",
              "      <th>15</th>\n",
              "      <td>Held-Karp</td>\n",
              "      <td>3524</td>\n",
              "      <td>0.001978</td>\n",
              "      <td>[3, 6, 5, 1, 8, 2, 4, 2, 1]</td>\n",
              "      <td>10</td>\n",
              "    </tr>\n",
              "    <tr>\n",
              "      <th>16</th>\n",
              "      <td>Held-Karp</td>\n",
              "      <td>3578</td>\n",
              "      <td>0.005000</td>\n",
              "      <td>[3, 6, 5, 10, 8, 2, 4, 2, 1, 1]</td>\n",
              "      <td>11</td>\n",
              "    </tr>\n",
              "    <tr>\n",
              "      <th>17</th>\n",
              "      <td>Held-Karp</td>\n",
              "      <td>3704</td>\n",
              "      <td>0.015020</td>\n",
              "      <td>[3, 6, 5, 10, 8, 2, 4, 11, 1, 1, 8]</td>\n",
              "      <td>12</td>\n",
              "    </tr>\n",
              "  </tbody>\n",
              "</table>\n",
              "</div>"
            ],
            "text/plain": [
              "              0     1           2                                          3  \\\n",
              "0   Força bruta   896    0.000000                               (0, 1, 2, 0)   \n",
              "1   Força bruta  1682    0.000000                            (0, 2, 3, 1, 0)   \n",
              "2   Força bruta  1714    0.000000                         (0, 4, 2, 3, 1, 0)   \n",
              "3   Força bruta  2894    0.001998                   (0, 4, 2, 6, 5, 3, 1, 0)   \n",
              "4   Força bruta  2901    0.011000                (0, 2, 6, 5, 3, 1, 4, 7, 0)   \n",
              "5   Força bruta  3523    0.091814             (0, 1, 3, 5, 8, 2, 6, 4, 7, 0)   \n",
              "6   Força bruta  3524    0.899700          (0, 9, 6, 2, 8, 5, 3, 1, 4, 7, 0)   \n",
              "7   Força bruta  3578   15.509956      (0, 9, 6, 2, 8, 5, 3, 1, 10, 4, 7, 0)   \n",
              "8   Força bruta  3704  206.501872  (0, 9, 6, 2, 11, 8, 5, 3, 1, 10, 4, 7, 0)   \n",
              "9     Held-Karp   896    0.000000                                     [2, 1]   \n",
              "10    Held-Karp  1682    0.000000                                  [3, 1, 1]   \n",
              "11    Held-Karp  1714    0.000000                               [3, 1, 1, 1]   \n",
              "12    Held-Karp  2894    0.001000                         [3, 6, 5, 1, 3, 2]   \n",
              "13    Held-Karp  2901    0.000000                      [3, 6, 5, 1, 3, 2, 4]   \n",
              "14    Held-Karp  3523    0.001022                   [3, 6, 5, 1, 8, 2, 4, 2]   \n",
              "15    Held-Karp  3524    0.001978                [3, 6, 5, 1, 8, 2, 4, 2, 1]   \n",
              "16    Held-Karp  3578    0.005000            [3, 6, 5, 10, 8, 2, 4, 2, 1, 1]   \n",
              "17    Held-Karp  3704    0.015020        [3, 6, 5, 10, 8, 2, 4, 11, 1, 1, 8]   \n",
              "\n",
              "     4  \n",
              "0    3  \n",
              "1    4  \n",
              "2    5  \n",
              "3    7  \n",
              "4    8  \n",
              "5    9  \n",
              "6   10  \n",
              "7   11  \n",
              "8   12  \n",
              "9    3  \n",
              "10   4  \n",
              "11   5  \n",
              "12   7  \n",
              "13   8  \n",
              "14   9  \n",
              "15  10  \n",
              "16  11  \n",
              "17  12  "
            ]
          },
          "execution_count": 135,
          "metadata": {},
          "output_type": "execute_result"
        }
      ],
      "source": [
        "df = pd.DataFrame(matriz_resultados)\n",
        "df"
      ]
    }
  ],
  "metadata": {
    "colab": {
      "authorship_tag": "ABX9TyN2HBpTxecPVboj4mEeSqdy",
      "include_colab_link": true,
      "provenance": []
    },
    "kernelspec": {
      "display_name": "Python 3",
      "name": "python3"
    },
    "language_info": {
      "codemirror_mode": {
        "name": "ipython",
        "version": 3
      },
      "file_extension": ".py",
      "mimetype": "text/x-python",
      "name": "python",
      "nbconvert_exporter": "python",
      "pygments_lexer": "ipython3",
      "version": "3.12.3"
    }
  },
  "nbformat": 4,
  "nbformat_minor": 0
}
