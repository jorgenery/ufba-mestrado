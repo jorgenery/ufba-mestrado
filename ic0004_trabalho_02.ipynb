{
  "nbformat": 4,
  "nbformat_minor": 0,
  "metadata": {
    "colab": {
      "provenance": [],
      "authorship_tag": "ABX9TyN2HBpTxecPVboj4mEeSqdy",
      "include_colab_link": true
    },
    "kernelspec": {
      "name": "python3",
      "display_name": "Python 3"
    },
    "language_info": {
      "name": "python"
    }
  },
  "cells": [
    {
      "cell_type": "markdown",
      "metadata": {
        "id": "view-in-github",
        "colab_type": "text"
      },
      "source": [
        "<a href=\"https://colab.research.google.com/github/jorgenery/ufba-mestrado/blob/main/ic0004_trabalho_02.ipynb\" target=\"_parent\"><img src=\"https://colab.research.google.com/assets/colab-badge.svg\" alt=\"Open In Colab\"/></a>"
      ]
    },
    {
      "cell_type": "markdown",
      "source": [],
      "metadata": {
        "id": "DmwqQfHOy2Fc"
      }
    },
    {
      "cell_type": "markdown",
      "source": [],
      "metadata": {
        "id": "xJHinoEay2gE"
      }
    },
    {
      "cell_type": "code",
      "source": [
        "import itertools\n",
        "import numpy as np\n",
        "import time\n",
        "# Matriz de Distancias Cidades\n",
        "# Fonte: https://www.melhoresrotas.com/tabela-de-distancias-entre-cidades/br-bahia/\n",
        "distancias = [\n",
        "    # Salvador, Feira de Santana, Itabuna, Juazeiro, Camaçari, Barreiras, Ilhéus, Lauro de Freitas, Teixeira de Freitas, Jequié, Porto Seguro, Alagoinhas, Simões Filho, Eunápolis, Paulo Afonso\n",
        "    [0, 112, 433, 505, 46, 861, 449, 24, 806, 367, 707, 112, 25, 645, 457],  # Salvador\n",
        "    [115, 0, 348, 394, 98, 748, 364, 110, 721, 254, 623, 75, 89, 560, 377],  # Feira de Santana\n",
        "    [436, 348, 0, 741, 419, 942, 30, 431, 376, 187, 277, 396, 409, 215, 724],  # Itabuna\n",
        "    [508, 393, 743, 0, 491, 935, 759, 503, 1_116, 645, 1_017, 445, 482, 955, 364],  # Juazeiro\n",
        "    [50, 98, 419, 491, 0, 847, 435, 30, 792, 353, 693, 80, 24, 631, 425],  # Camaçari\n",
        "    [863, 748, 942, 936, 846, 0, 957, 858, 1_185, 793, 1_086, 823, 837, 1_024, 1_124],  # Barreiras\n",
        "    [452, 364, 30, 757, 435, 955, 0, 447, 405, 203, 307, 412, 426, 244, 740],  # Ilhéus\n",
        "    [26, 108, 429, 501, 31, 857, 444, 0, 802, 363, 703, 108, 21, 641, 453],  # Lauro de Freitas\n",
        "    [809, 721, 376, 1_114, 792, 1_185, 405, 804, 0, 560, 225, 769, 783, 163, 1_098],  # Teixeira de Freitas\n",
        "    [369, 254, 187, 647, 352, 792, 203, 364, 560, 0, 461, 329, 343, 399, 630],  # Jequié\n",
        "    [711, 623, 277, 1_016, 694, 1_087, 307, 706, 225, 462, 0, 671, 684, 63, 999],  # Porto Seguro\n",
        "    [116, 76, 396, 446, 77, 824, 412, 105, 769, 330, 670, 0, 88, 608, 346],  # Alagoinhas\n",
        "    [28, 89, 410, 482, 21, 838, 425, 22, 783, 344, 684, 88, 0, 622, 433],  # Simões Filho\n",
        "    [648, 560, 214, 953, 631, 1_024, 244, 643, 163, 399, 62, 608, 622, 0, 936],  # Eunápolis\n",
        "    [462, 378, 728, 367, 423, 1_124, 744, 451, 1_101, 630, 1_002, 347, 434, 940, 0]  # Paulo Afonso\n",
        "    ]\n",
        "cidades = [\n",
        "    \"Salvador\", \"Feira de Santana\", \"Itabuna\", \"Juazeiro\", \"Camaçari\",\n",
        "    \"Barreiras\", \"Ilhéus\", \"Lauro de Freitas\", \"Teixeira de Freitas\",\n",
        "    \"Jequié\", \"Porto Seguro\", \"Alagoinhas\", \"Simões Filho\", \"Eunápolis\",\n",
        "    \"Paulo Afonso\"\n",
        "    ]\n",
        "def get_submatrix(cidades_selecionadas, cidades, distancias):\n",
        "    # Verificar se todas as cidades estão na lista\n",
        "    for cidade in cidades_selecionadas:\n",
        "        if cidade not in cidades:\n",
        "            raise ValueError(f\"A cidade '{cidade}' não está na lista de cidades.\")\n",
        "    # Obter os índices das cidades selecionadas\n",
        "    indices = [cidades.index(cidade) for cidade in cidades_selecionadas]\n",
        "\n",
        "    # Criar a submatriz\n",
        "    submatriz = []\n",
        "    for i in indices:\n",
        "        linha = [distancias[i][j] for j in indices]\n",
        "        submatriz.append(linha)\n",
        "\n",
        "    return submatriz"
      ],
      "metadata": {
        "id": "2ZRBYspMx-5s"
      },
      "execution_count": null,
      "outputs": []
    },
    {
      "cell_type": "markdown",
      "source": [
        "## Implementação Algoritmos"
      ],
      "metadata": {
        "id": "xKaptHtp488M"
      }
    },
    {
      "cell_type": "markdown",
      "source": [
        "### Algoritmo de Força Bruta"
      ],
      "metadata": {
        "id": "cISYMrK-_iO0"
      }
    },
    {
      "cell_type": "code",
      "source": [
        "# Algoritmo de Força Bruta\n",
        "def gerar_permutacoes(arr):\n",
        "    \"\"\"Gera todas as permutações de um array.\"\"\"\n",
        "    if len(arr) == 0:\n",
        "        return [[]]\n",
        "\n",
        "    permutacoes = []\n",
        "    for i in range(len(arr)):\n",
        "        restante = arr[:i] + arr[i+1:]\n",
        "        for p in gerar_permutacoes(restante):\n",
        "            permutacoes.append([arr[i]] + p)\n",
        "\n",
        "    return permutacoes\n",
        "\n",
        "def forca_bruta(matriz_distancias, distancia_maxima):\n",
        "    n = len(matriz_distancias)\n",
        "    rota_minima = None\n",
        "    distancia_minima = float('inf')\n",
        "\n",
        "    # Gera todas as permutações possíveis das cidades (exceto a inicial)\n",
        "    cidades = list(range(1, n))\n",
        "    permutacoes = gerar_permutacoes(cidades)\n",
        "\n",
        "    for perm in permutacoes:\n",
        "        rota = (0,) + tuple(perm) + (0,)\n",
        "        distancia = sum(matriz_distancias[rota[i]][rota[i+1]] for i in range(len(rota) - 1))\n",
        "\n",
        "        if distancia < distancia_minima:\n",
        "            distancia_minima = distancia\n",
        "            rota_minima = rota\n",
        "        if distancia > distancia_maxima:\n",
        "            continue\n",
        "\n",
        "    if distancia_minima > distancia_maxima:\n",
        "        return None, None\n",
        "\n",
        "    return rota_minima, distancia_minima"
      ],
      "metadata": {
        "id": "zNvkG_y-8rIE"
      },
      "execution_count": null,
      "outputs": []
    },
    {
      "cell_type": "markdown",
      "source": [
        "### Algoritmo do Vizinho Mais Próximo"
      ],
      "metadata": {
        "id": "Z0DafMS4_sPs"
      }
    },
    {
      "cell_type": "code",
      "source": [
        "# Algoritmo do Vizinho Mais Próximo\n",
        "def vizinho_mais_proximo(matriz_distancias, cidade_inicial=0, distancia_maxima=float('inf')):\n",
        "    n = len(matriz_distancias)\n",
        "    visitadas = [False] * n\n",
        "    rota = [cidade_inicial]\n",
        "    distancia_total = 0\n",
        "\n",
        "    cidade_atual = cidade_inicial\n",
        "    visitadas[cidade_atual] = True\n",
        "\n",
        "    for _ in range(n - 1):\n",
        "        # Encontra a próxima cidade com a menor distância, não visitada\n",
        "        proxima_cidade = np.argmin([matriz_distancias[cidade_atual][j] if not visitadas[j] else float('inf') for j in range(n)])\n",
        "        distancia_para_proxima = matriz_distancias[cidade_atual][proxima_cidade]\n",
        "\n",
        "        # Verifica se adicionar a próxima cidade excede a distância máxima\n",
        "        if distancia_total + distancia_para_proxima > distancia_maxima:\n",
        "            return None, None\n",
        "\n",
        "        distancia_total += distancia_para_proxima\n",
        "        rota.append(proxima_cidade)\n",
        "        visitadas[proxima_cidade] = True\n",
        "        cidade_atual = proxima_cidade\n",
        "\n",
        "    # Adiciona a distância de volta para a cidade inicial\n",
        "    distancia_final = matriz_distancias[cidade_atual][cidade_inicial]\n",
        "\n",
        "    if distancia_total + distancia_final > distancia_maxima:\n",
        "        return None, None\n",
        "\n",
        "    distancia_total += distancia_final\n",
        "    rota.append(cidade_inicial)\n",
        "\n",
        "    return rota, distancia_total"
      ],
      "metadata": {
        "id": "R1mjCpIb8m62"
      },
      "execution_count": null,
      "outputs": []
    },
    {
      "cell_type": "markdown",
      "source": [
        "### Algoritmo Held Karp"
      ],
      "metadata": {
        "id": "leLK3XT4_0oW"
      }
    },
    {
      "cell_type": "code",
      "source": [
        "def held_karp(distances, max_distance):\n",
        "    n = len(distances)\n",
        "    C = {}\n",
        "\n",
        "    for k in range(1, n):\n",
        "        C[(1 << k, k)] = (distances[0][k], 0)\n",
        "\n",
        "    for subset_size in range(2, n):\n",
        "        for subset in itertools.combinations(range(1, n), subset_size):\n",
        "            bits = 0\n",
        "            for bit in subset:\n",
        "                bits |= 1 << bit\n",
        "            for k in subset:\n",
        "                prev_bits = bits & ~(1 << k)\n",
        "                res = []\n",
        "                for m in subset:\n",
        "                    if m == 0 or m == k:\n",
        "                        continue\n",
        "                    res.append((C[(prev_bits, m)][0] + distances[m][k], m))\n",
        "                C[(bits, k)] = min(res)\n",
        "\n",
        "    bits = (2**n - 1) - 1\n",
        "    res = []\n",
        "    routes = []\n",
        "    for k in range(1, n):\n",
        "        res.append((C[(bits, k)][0] + distances[k][0], k))\n",
        "        routes.append(C[(bits, k)][1])\n",
        "    opt, parent = min(res)\n",
        "\n",
        "    return routes,opt"
      ],
      "metadata": {
        "id": "MbR2OdpLSJAN"
      },
      "execution_count": null,
      "outputs": []
    },
    {
      "cell_type": "markdown",
      "source": [
        "### Colonia de Formigas"
      ],
      "metadata": {
        "id": "47psEuqC__ff"
      }
    },
    {
      "cell_type": "code",
      "source": [
        "# Colônia de Formigas\n",
        "def colonia_formigas(dist_matrix, max_distance):\n",
        "  # todo implementar\n",
        "  return [],0"
      ],
      "metadata": {
        "id": "C2QjjbYV-jQh"
      },
      "execution_count": null,
      "outputs": []
    },
    {
      "cell_type": "markdown",
      "source": [
        "### Valida certificado"
      ],
      "metadata": {
        "id": "CybIkvQhAHLi"
      }
    },
    {
      "cell_type": "code",
      "source": [
        "# Valida certificado\n",
        "def calculate_distance(route, distances):\n",
        "    return sum(distances[route[i]][route[i+1]] for i in range(len(route)-1)) + distances[route[-1]][route[0]]"
      ],
      "metadata": {
        "id": "YqAxFvep-C_g"
      },
      "execution_count": null,
      "outputs": []
    },
    {
      "cell_type": "markdown",
      "source": [
        "### Comparação de Eficiência"
      ],
      "metadata": {
        "id": "zxZfPmulALW7"
      }
    },
    {
      "cell_type": "code",
      "source": [
        "# Comparação de Eficiência\n",
        "def compare_algorithms(cities, dist_matrix, max_distance):\n",
        "\n",
        "    matriz_comparacao = []\n",
        "\n",
        "    # Algoritmo de Força Bruta\n",
        "    start_time = time.time()\n",
        "    rota, distancia = forca_bruta(dist_matrix, max_distance)\n",
        "    tempo = time.time() - start_time\n",
        "    dados = [\"Algoritmo Força bruta\", distancia, tempo, rota ]\n",
        "    matriz_comparacao.append(dados)\n",
        "\n",
        "    # Algoritmo do Vizinho Mais Próximo\n",
        "    start_time = time.time()\n",
        "    rota, distancia = vizinho_mais_proximo(dist_matrix,cidade_inicial=0,distancia_maxima=max_distance)\n",
        "    tempo = time.time() - start_time\n",
        "    dados = [\"Algoritmo do Vizinho Mais Próximo\", distancia, tempo, rota ]\n",
        "    matriz_comparacao.append(dados)\n",
        "\n",
        "    # Algoritmo held_karp\n",
        "    start_time = time.time()\n",
        "    rota, distancia = held_karp(dist_matrix, max_distance)\n",
        "    tempo = time.time() - start_time\n",
        "    dados = [\"Algoritmo held_karp\", distancia, tempo, rota ]\n",
        "    matriz_comparacao.append(dados)\n",
        "\n",
        "    # Algoritmo Colônia de Formigas\n",
        "    rota, distancia = colonia_formigas(dist_matrix, max_distance)\n",
        "    tempo = time.time() - start_time\n",
        "    dados = [\"Algoritmo Colônia de Formigas\", distancia, tempo, rota ]\n",
        "    matriz_comparacao.append(dados)\n",
        "\n",
        "    # Resultados\n",
        "    for d in matriz_comparacao:\n",
        "      if d[1] == None or d[1]==0:\n",
        "        print(f\"{d[0]}: Nenhuma resposta valida\")\n",
        "      else:\n",
        "        print(f\"{d[0]}: Distância = {d[1]} km, Tempo = {d[2]:.4f} s, Rota = {d[3]}\")\n",
        "    return matriz_comparacao"
      ],
      "metadata": {
        "id": "yJFHeRXN8x39"
      },
      "execution_count": null,
      "outputs": []
    },
    {
      "cell_type": "markdown",
      "source": [
        "## Experimentos"
      ],
      "metadata": {
        "id": "wmMznkOrAUeA"
      }
    },
    {
      "cell_type": "code",
      "source": [
        "\n",
        "roteiros = [\n",
        "    [\"Salvador\", \"Feira de Santana\", \"Itabuna\"],\n",
        "    [\"Salvador\", \"Feira de Santana\", \"Itabuna\", \"Juazeiro\", \"Camaçari\"],\n",
        "    [\"Salvador\", \"Feira de Santana\", \"Itabuna\", \"Juazeiro\", \"Barreiras\",\"Ilhéus\"],\n",
        "#    [\"Salvador\", \"Feira de Santana\", \"Itabuna\", \"Ilhéus\", \"Lauro de Freitas\", \"Teixeira de Freitas\"],\n",
        "#    [\"Salvador\", \"Feira de Santana\", \"Itabuna\", \"Juazeiro\", \"Barreiras\", \"Ilhéus\", \"Lauro de Freitas\", \"Teixeira de Freitas\"],\n",
        "#    [\"Salvador\", \"Feira de Santana\", \"Itabuna\", \"Juazeiro\", \"Camaçari\",\n",
        "#    \"Barreiras\", \"Ilhéus\", \"Lauro de Freitas\", \"Teixeira de Freitas\",\n",
        "#    \"Jequié\", \"Porto Seguro\", \"Alagoinhas\", \"Simões Filho\", \"Eunápolis\",\n",
        "#    \"Paulo Afonso\"]\n",
        "]\n",
        "max_distance = 1800\n",
        "matriz_resultados = []\n",
        "for roteiro in roteiros:\n",
        "  matriz_roteiro = get_submatrix(roteiro, cidades, distancias)\n",
        "  # Comparar os algoritmos\n",
        "  matriz_resultados.append(compare_algorithms(roteiro, matriz_roteiro, max_distance))"
      ],
      "metadata": {
        "colab": {
          "base_uri": "https://localhost:8080/"
        },
        "id": "fe4thUuJ2OkD",
        "outputId": "562b4b56-e497-4fcd-c6b5-66160630ab60"
      },
      "execution_count": null,
      "outputs": [
        {
          "output_type": "stream",
          "name": "stdout",
          "text": [
            "Algoritmo Força bruta: Distância = 896 km, Tempo = 0.0000 s, Rota = (0, 1, 2, 0)\n",
            "Algoritmo do Vizinho Mais Próximo: Distância = 896 km, Tempo = 0.0001 s, Rota = [0, 1, 2, 0]\n",
            "Algoritmo held_karp: Distância = 896 km, Tempo = 0.0000 s, Rota = [2, 1]\n",
            "Algoritmo Colônia de Formigas: Nenhuma resposta valida\n",
            "Algoritmo Força bruta: Distância = 1714 km, Tempo = 0.0002 s, Rota = (0, 4, 2, 3, 1, 0)\n",
            "Algoritmo do Vizinho Mais Próximo: Distância = 1741 km, Tempo = 0.0001 s, Rota = [0, 4, 1, 2, 3, 0]\n",
            "Algoritmo held_karp: Distância = 1714 km, Tempo = 0.0001 s, Rota = [3, 1, 1, 1]\n",
            "Algoritmo Colônia de Formigas: Nenhuma resposta valida\n",
            "Algoritmo Força bruta: Nenhuma resposta valida\n",
            "Algoritmo do Vizinho Mais Próximo: Nenhuma resposta valida\n",
            "Algoritmo held_karp: Distância = 2862 km, Tempo = 0.0003 s, Rota = [3, 5, 4, 3, 2]\n",
            "Algoritmo Colônia de Formigas: Nenhuma resposta valida\n"
          ]
        }
      ]
    },
    {
      "cell_type": "code",
      "source": [
        "matriz_resultados[0]"
      ],
      "metadata": {
        "colab": {
          "base_uri": "https://localhost:8080/"
        },
        "id": "djaZ2WaVEK_d",
        "outputId": "63b08842-2bf4-4fa9-dd4f-bcedbe5a87c9"
      },
      "execution_count": null,
      "outputs": [
        {
          "output_type": "execute_result",
          "data": {
            "text/plain": [
              "[['Algoritmo Força bruta', 896, 2.193450927734375e-05, (0, 1, 2, 0)],\n",
              " ['Algoritmo do Vizinho Mais Próximo',\n",
              "  896,\n",
              "  2.193450927734375e-05,\n",
              "  [0, 1, 2, 0]]]"
            ]
          },
          "metadata": {},
          "execution_count": 77
        }
      ]
    }
  ]
}